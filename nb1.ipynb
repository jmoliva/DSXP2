{
    "nbformat": 4, 
    "cells": [
        {
            "cell_type": "code", 
            "metadata": {
                "collapsed": true
            }, 
            "source": "print 'Hello, world!'", 
            "outputs": [], 
            "execution_count": null
        }
    ], 
    "metadata": {
        "kernelspec": {
            "display_name": "Python 2 with Spark 2.1", 
            "name": "python2-spark21", 
            "language": "python"
        }, 
        "language_info": {
            "codemirror_mode": {
                "version": 2, 
                "name": "ipython"
            }, 
            "nbconvert_exporter": "python", 
            "file_extension": ".py", 
            "name": "python", 
            "mimetype": "text/x-python", 
            "version": "2.7.11", 
            "pygments_lexer": "ipython2"
        }
    }, 
    "nbformat_minor": 1
}