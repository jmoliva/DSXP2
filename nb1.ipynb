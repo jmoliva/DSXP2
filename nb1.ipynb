{
    "nbformat_minor": 1, 
    "metadata": {
        "kernelspec": {
            "name": "python2-spark21", 
            "display_name": "Python 2 with Spark 2.1", 
            "language": "python"
        }, 
        "language_info": {
            "mimetype": "text/x-python", 
            "version": "2.7.11", 
            "name": "python", 
            "pygments_lexer": "ipython2", 
            "nbconvert_exporter": "python", 
            "file_extension": ".py", 
            "codemirror_mode": {
                "name": "ipython", 
                "version": 2
            }
        }
    }, 
    "cells": [
        {
            "outputs": [], 
            "execution_count": null, 
            "metadata": {
                "collapsed": true
            }, 
            "cell_type": "code", 
            "source": "print 'Hello, world!'\nprint 'Hello, world2222!'\n\nprint 'Hello, world333!'\n\nprint 'Hello, world4444!'"
        }
    ], 
    "nbformat": 4
}